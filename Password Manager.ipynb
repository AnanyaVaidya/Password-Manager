{
 "cells": [
  {
   "cell_type": "markdown",
   "id": "58e8c50a",
   "metadata": {},
   "source": [
    "# Password Manager"
   ]
  },
  {
   "cell_type": "markdown",
   "id": "1329b591",
   "metadata": {},
   "source": [
    "# Core Components\n",
    "1.Encryption and Decryption: To securely store passwords, they should be encrypted."
   ]
  },
  {
   "cell_type": "markdown",
   "id": "c9240af5",
   "metadata": {},
   "source": [
    "2.Database: To store the encrypted passwords."
   ]
  },
  {
   "cell_type": "markdown",
   "id": "63601588",
   "metadata": {},
   "source": [
    "3.User Interface: (Optional) A simple CLI or GUI for user interaction."
   ]
  },
  {
   "cell_type": "markdown",
   "id": "94bafceb",
   "metadata": {},
   "source": [
    "# How It Works\n",
    "1.Key Management: The program generates and saves an encryption key if it doesn't already exist."
   ]
  },
  {
   "cell_type": "markdown",
   "id": "5d36b99c",
   "metadata": {},
   "source": [
    "2.Password Storage: The passwords are encrypted using this key before being stored in an SQLite database."
   ]
  },
  {
   "cell_type": "markdown",
   "id": "2c287136",
   "metadata": {},
   "source": [
    "3.Password Retrieval: When a password is retrieved, it is decrypted using the same key."
   ]
  },
  {
   "cell_type": "markdown",
   "id": "d61af1ed",
   "metadata": {},
   "source": [
    "# Load the Required Libraries"
   ]
  },
  {
   "cell_type": "code",
   "execution_count": 1,
   "id": "d7a50be1",
   "metadata": {},
   "outputs": [],
   "source": [
    "from cryptography.fernet import Fernet\n",
    "import sqlite3\n",
    "import os"
   ]
  },
  {
   "cell_type": "markdown",
   "id": "0f063f18",
   "metadata": {},
   "source": [
    "# Set Up the Encryption Functions"
   ]
  },
  {
   "cell_type": "code",
   "execution_count": 2,
   "id": "2584530c",
   "metadata": {},
   "outputs": [],
   "source": [
    "# Generate a key for encryption/decryption\n",
    "def generate_key():\n",
    "    key = Fernet.generate_key()\n",
    "    with open(\"secret.key\", \"wb\") as key_file:\n",
    "        key_file.write(key)\n",
    "\n",
    "# Load the previously generated key\n",
    "def load_key():\n",
    "    return open(\"secret.key\", \"rb\").read()\n",
    "\n",
    "# Encrypt the password\n",
    "def encrypt_password(password, key):\n",
    "    cipher_suite = Fernet(key)\n",
    "    encrypted_password = cipher_suite.encrypt(password.encode())\n",
    "    return encrypted_password\n",
    "\n",
    "# Decrypt the password\n",
    "def decrypt_password(encrypted_password, key):\n",
    "    cipher_suite = Fernet(key)\n",
    "    decrypted_password = cipher_suite.decrypt(encrypted_password).decode()\n",
    "    return decrypted_password"
   ]
  },
  {
   "cell_type": "markdown",
   "id": "27593d10",
   "metadata": {},
   "source": [
    "# Set Up the Database Functions"
   ]
  },
  {
   "cell_type": "code",
   "execution_count": 3,
   "id": "cb487ac4",
   "metadata": {},
   "outputs": [],
   "source": [
    "# Initialize the database\n",
    "def init_db():\n",
    "    conn = sqlite3.connect('passwords.db')\n",
    "    cursor = conn.cursor()\n",
    "    cursor.execute('''CREATE TABLE IF NOT EXISTS passwords\n",
    "                      (id INTEGER PRIMARY KEY, service TEXT, username TEXT, password BLOB)''')\n",
    "    conn.commit()\n",
    "    conn.close()\n",
    "\n",
    "# Add a new password entry\n",
    "def add_password(service, username, password, key):\n",
    "    encrypted_password = encrypt_password(password, key)\n",
    "    conn = sqlite3.connect('passwords.db')\n",
    "    cursor = conn.cursor()\n",
    "    cursor.execute(\"INSERT INTO passwords (service, username, password) VALUES (?, ?, ?)\",\n",
    "                   (service, username, encrypted_password))\n",
    "    conn.commit()\n",
    "    conn.close()\n",
    "\n",
    "# Retrieve a password\n",
    "def get_password(service, key):\n",
    "    conn = sqlite3.connect('passwords.db')\n",
    "    cursor = conn.cursor()\n",
    "    cursor.execute(\"SELECT username, password FROM passwords WHERE service = ?\", (service,))\n",
    "    result = cursor.fetchone()\n",
    "    conn.close()\n",
    "    if result:\n",
    "        username, encrypted_password = result\n",
    "        decrypted_password = decrypt_password(encrypted_password, key)\n",
    "        return username, decrypted_password\n",
    "    else:\n",
    "        return None"
   ]
  },
  {
   "cell_type": "markdown",
   "id": "ce3dc26f",
   "metadata": {},
   "source": [
    "# Interactive CLI in Jupyter"
   ]
  },
  {
   "cell_type": "code",
   "execution_count": 4,
   "id": "ae2f9929",
   "metadata": {},
   "outputs": [],
   "source": [
    "# Ensure the encryption key is available\n",
    "if not os.path.exists(\"secret.key\"):\n",
    "    print(\"Generating a new encryption key...\")\n",
    "    generate_key()\n",
    "key = load_key()\n",
    "\n",
    "# Initialize the database\n",
    "init_db()\n",
    "\n",
    "def add_new_password(service, username, password):\n",
    "    add_password(service, username, password, key)\n",
    "    return \"Password added successfully!\"\n",
    "\n",
    "def retrieve_password(service):\n",
    "    result = get_password(service, key)\n",
    "    if result:\n",
    "        username, password = result\n",
    "        return f\"Service: {service}\\nUsername: {username}\\nPassword: {password}\"\n",
    "    else:\n",
    "        return \"Service not found!\""
   ]
  },
  {
   "cell_type": "markdown",
   "id": "2d6fd51d",
   "metadata": {},
   "source": [
    "# Add and Retrieve Passwords"
   ]
  },
  {
   "cell_type": "markdown",
   "id": "9dfdfdb8",
   "metadata": {},
   "source": [
    "To add a new password:"
   ]
  },
  {
   "cell_type": "code",
   "execution_count": 5,
   "id": "42f95937",
   "metadata": {},
   "outputs": [
    {
     "data": {
      "text/plain": [
       "'Password added successfully!'"
      ]
     },
     "execution_count": 5,
     "metadata": {},
     "output_type": "execute_result"
    }
   ],
   "source": [
    "add_new_password('example.com', 'user123', 'mypassword')"
   ]
  },
  {
   "cell_type": "markdown",
   "id": "1c02cc59",
   "metadata": {},
   "source": [
    "This message indicates that the password has been successfully encrypted and stored in the database."
   ]
  },
  {
   "cell_type": "markdown",
   "id": "fa5baa35",
   "metadata": {},
   "source": [
    "To retrieve a password:"
   ]
  },
  {
   "cell_type": "code",
   "execution_count": 6,
   "id": "6002b301",
   "metadata": {},
   "outputs": [
    {
     "data": {
      "text/plain": [
       "'Service: example.com\\nUsername: user123\\nPassword: mypassword'"
      ]
     },
     "execution_count": 6,
     "metadata": {},
     "output_type": "execute_result"
    }
   ],
   "source": [
    "retrieve_password('example.com')"
   ]
  },
  {
   "cell_type": "markdown",
   "id": "88546ca2",
   "metadata": {},
   "source": [
    "This output shows the decrypted username and password associated with the specified service."
   ]
  },
  {
   "cell_type": "markdown",
   "id": "407fa525",
   "metadata": {},
   "source": [
    "Attempting to Retrieve a Non-existent Password"
   ]
  },
  {
   "cell_type": "code",
   "execution_count": 7,
   "id": "b6ad79b8",
   "metadata": {},
   "outputs": [
    {
     "data": {
      "text/plain": [
       "'Service not found!'"
      ]
     },
     "execution_count": 7,
     "metadata": {},
     "output_type": "execute_result"
    }
   ],
   "source": [
    "retrieve_password('nonexistent.com')"
   ]
  },
  {
   "cell_type": "markdown",
   "id": "dca3303c",
   "metadata": {},
   "source": [
    "\n",
    "Key Generation: \"Generating a new encryption key...\" (only when running for the first time).\n",
    "Adding a Password: 'Password added successfully!'.\n",
    "Retrieving a Password: 'Service: example.com\\nUsername: user123\\nPassword: mypassword'.\n",
    "Service Not Found: 'Service not found!'."
   ]
  },
  {
   "cell_type": "code",
   "execution_count": null,
   "id": "44952d41",
   "metadata": {},
   "outputs": [],
   "source": []
  }
 ],
 "metadata": {
  "kernelspec": {
   "display_name": "Python 3 (ipykernel)",
   "language": "python",
   "name": "python3"
  },
  "language_info": {
   "codemirror_mode": {
    "name": "ipython",
    "version": 3
   },
   "file_extension": ".py",
   "mimetype": "text/x-python",
   "name": "python",
   "nbconvert_exporter": "python",
   "pygments_lexer": "ipython3",
   "version": "3.11.3"
  }
 },
 "nbformat": 4,
 "nbformat_minor": 5
}
